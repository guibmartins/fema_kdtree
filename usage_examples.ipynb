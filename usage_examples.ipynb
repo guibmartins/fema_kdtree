{
 "cells": [
  {
   "cell_type": "code",
   "execution_count": 1,
   "id": "39e090e0-d605-4197-9e8d-87d178094935",
   "metadata": {},
   "outputs": [],
   "source": [
    "import numpy as np\n",
    "from sklearn.datasets import load_wine\n",
    "from sklearn.model_selection import train_test_split as split\n",
    "from sklearn.preprocessing import StandardScaler\n",
    "from sklearn.metrics import accuracy_score\n",
    "from fema_supervised import FEMaClassifier, FEMaRegressor"
   ]
  },
  {
   "cell_type": "markdown",
   "id": "8a9f68e5-b80d-41c0-9652-8abe91be05a8",
   "metadata": {},
   "source": [
    "### Preparing the data"
   ]
  },
  {
   "cell_type": "code",
   "execution_count": 2,
   "id": "a94b64b5-2898-42b9-b8f4-9ec152df42f1",
   "metadata": {},
   "outputs": [],
   "source": [
    "scaler = StandardScaler()\n",
    "\n",
    "X, y = load_wine(return_X_y=True)\n",
    "_X_train, _X_test, y_train, y_test = split(X, y, test_size=0.3, random_state=19)\n",
    "\n",
    "X_train = scaler.fit_transform(_X_train)\n",
    "X_test = scaler.transform(_X_test)"
   ]
  },
  {
   "cell_type": "markdown",
   "id": "5a833551-068f-4a46-9fa8-8f583e47d85f",
   "metadata": {},
   "source": [
    "### Setting KD-tree parameters\n",
    "If not initialized by the user, parameters 'leaf_size' and 'distance' are set to their default values."
   ]
  },
  {
   "cell_type": "code",
   "execution_count": 13,
   "id": "96eee335-30a4-480f-acac-495a73dbbbb6",
   "metadata": {},
   "outputs": [],
   "source": [
    "# k = training set size --> reproduce the original FEMa behavior\n",
    "tree_prm = {\n",
    "    'k': int(X_train.shape[0]),\n",
    "    'leaf_size': 20,\n",
    "    'distance': 'minkowski'\n",
    "}"
   ]
  },
  {
   "cell_type": "markdown",
   "id": "6cfad259-ed8b-4175-90c4-cf586c9f9ddd",
   "metadata": {},
   "source": [
    "### Running FEMa/FEMaR using k = n_training_samples"
   ]
  },
  {
   "cell_type": "code",
   "execution_count": 14,
   "id": "41ebf0a0-0ed0-49d6-96db-25bed0ea9d9f",
   "metadata": {},
   "outputs": [
    {
     "name": "stdout",
     "output_type": "stream",
     "text": [
      "Accuracy score on test set interpolating the top-124 training samples:  0.9815\n",
      "Accuracy score on test set interpolating the top-124 training samples:  0.9444\n"
     ]
    }
   ],
   "source": [
    "# 'z' is used by FEMa/FEMaR during the computation of the shepard basis\n",
    "z = 3\n",
    "\n",
    "# Top-k FEMa classifier (with kd-tree)\n",
    "femac = FEMaClassifier(z=z, kdtree_params=tree_prm)\n",
    "femac.fit(X_train, y_train)\n",
    "preds = femac.predict(X_test)\n",
    "\n",
    "acc = accuracy_score(y_test, preds)\n",
    "print(f'Accuracy score on test set interpolating the top-{femac.k} training samples: {acc: .4f}')\n",
    "\n",
    "# Top-k FEMa regressor (with kd-tree)\n",
    "femar = FEMaRegressor(z=z, kdtree_params=tree_prm, use_numba=True)\n",
    "femar.fit(X_train, y_train)\n",
    "preds = femar.predict(X_test)\n",
    "\n",
    "acc = accuracy_score(y_test, np.round(preds).astype(int))\n",
    "print(f'Accuracy score on test set interpolating the top-{femar.k} training samples: {acc: .4f}')"
   ]
  },
  {
   "cell_type": "markdown",
   "id": "687b56e9-8a9b-48ad-9ade-f06cd8c80192",
   "metadata": {},
   "source": [
    "### Running FEMa/FEMaR using k = 10"
   ]
  },
  {
   "cell_type": "code",
   "execution_count": 15,
   "id": "c72a8490-e7c2-46c1-a52c-d5a49dc9cf0c",
   "metadata": {},
   "outputs": [
    {
     "name": "stdout",
     "output_type": "stream",
     "text": [
      "Accuracy score on test set interpolating the top-10 training samples:  0.9259\n",
      "Accuracy score on test set interpolating the top-10 training samples:  0.9630\n"
     ]
    }
   ],
   "source": [
    "# 'z' is used by FEMa/FEMaR during the computation of the shepard basis\n",
    "z = 3\n",
    "\n",
    "tree_prm['k'] = 10\n",
    "\n",
    "# Top-k FEMa classifier (with kd-tree)\n",
    "femac = FEMaClassifier(z=z, kdtree_params=tree_prm)\n",
    "femac.fit(X_train, y_train)\n",
    "preds = femac.predict(X_test)\n",
    "\n",
    "acc = accuracy_score(y_test, preds)\n",
    "print(f'Accuracy score on test set interpolating the top-{femac.k} training samples: {acc: .4f}')\n",
    "\n",
    "# Top-k FEMa regressor (with kd-tree)\n",
    "femar = FEMaRegressor(z=z, kdtree_params=tree_prm, use_numba=True)\n",
    "femar.fit(X_train, y_train)\n",
    "preds = femar.predict(X_test)\n",
    "\n",
    "# Evaluating results with respect to accuracy score\n",
    "acc = accuracy_score(y_test, np.round(preds).astype(int))\n",
    "print(f'Accuracy score on test set interpolating the top-{femar.k} training samples: {acc: .4f}')"
   ]
  }
 ],
 "metadata": {
  "kernelspec": {
   "display_name": "Python 3 (ipykernel)",
   "language": "python",
   "name": "python3"
  },
  "language_info": {
   "codemirror_mode": {
    "name": "ipython",
    "version": 3
   },
   "file_extension": ".py",
   "mimetype": "text/x-python",
   "name": "python",
   "nbconvert_exporter": "python",
   "pygments_lexer": "ipython3",
   "version": "3.9.7"
  }
 },
 "nbformat": 4,
 "nbformat_minor": 5
}
